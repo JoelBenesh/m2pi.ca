{
  "nbformat": 4,
  "nbformat_minor": 0,
  "metadata": {
    "colab": {
      "provenance": [],
      "include_colab_link": true
    },
    "kernelspec": {
      "name": "python3",
      "display_name": "Python 3"
    },
    "language_info": {
      "name": "python"
    }
  },
  "cells": [
    {
      "cell_type": "markdown",
      "metadata": {
        "id": "view-in-github",
        "colab_type": "text"
      },
      "source": [
        "<a href=\"https://colab.research.google.com/github/JoelBenesh/m2pi.ca/blob/master/GHG_Emissions.ipynb\" target=\"_parent\"><img src=\"https://colab.research.google.com/assets/colab-badge.svg\" alt=\"Open In Colab\"/></a>"
      ]
    },
    {
      "cell_type": "code",
      "source": [
        "roundwood_bulking_factor = 0.6\n",
        "chip_bulking_factor = 0.37\n",
        "moisture_content = 0.55\n",
        "dry_wood_weight = 120000\n",
        "sawmill_waste_weight = 80000\n",
        "\n",
        "average_distance = 53\n",
        "truck_fuel_consumption = 56.7\n",
        "diesel_carbon_content = 0.00269\n",
        "\n",
        "work_days_per_year = 235\n",
        "\n",
        "runtime_per_day = 10\n",
        "grinder_fuel_consumption= 135"
      ],
      "metadata": {
        "id": "2sTpe8KILi2J"
      },
      "execution_count": null,
      "outputs": []
    },
    {
      "cell_type": "code",
      "source": [
        "slashpile_wood_composition = {\n",
        "    \"wood species\" : [\"slashpile %\", \"stem %\", \"stem calorific value (GJ/ODT)\", \"bark %\", \"bark calorific value (GJ/ODT)\", \"bulk density (kg/ m^3-solid)\", \"green density (kg/ m^3-solid)\"],\n",
        "    \"cedar\" : [0.1, 0.75, 20.2, .25, 21.1, 530],\n",
        "    \"pine\" : [0.40, 0.75, 20.8, .25, 21.1, 420],\n",
        "    \"spruce\" : [0.40, 0.75, 19.8, .25, 20.3, 450],\n",
        "    \"aspen\" : [0.05, 0.9, 19.5, .1, 20, 420],\n",
        "    \"cottonwood\" : [0.05, 0.9, 19.5, .1, 20, 410]\n",
        "    }\n",
        "\n",
        "for key in slashpile_wood_composition:\n",
        "    if key != \"wood species\":\n",
        "        wood_species = slashpile_wood_composition[key]\n",
        "        bulk_density = wood_species[-1]  # Get the last element of the current list\n",
        "        green_density = wood_species.append((bulk_density * roundwood_bulking_factor * 1.3) / (1 - moisture_content))"
      ],
      "metadata": {
        "id": "GV9sS2VNgupv"
      },
      "execution_count": null,
      "outputs": []
    },
    {
      "cell_type": "code",
      "source": [
        "for key in slashpile_wood_composition:\n",
        "    print(slashpile_wood_composition[key])"
      ],
      "metadata": {
        "colab": {
          "base_uri": "https://localhost:8080/"
        },
        "id": "cPlSHFydmUbq",
        "outputId": "a07aa130-30ac-48b5-b7d8-de2e1cf5ef4d"
      },
      "execution_count": null,
      "outputs": [
        {
          "output_type": "stream",
          "name": "stdout",
          "text": [
            "['slashpile %', 'stem %', 'stem calorific value (GJ/ODT)', 'bark %', 'bark calorific value (GJ/ODT)', 'bulk density (kg/ m^3-solid)', 'green density (kg/ m^3-solid)']\n",
            "[0.1, 0.75, 20.2, 0.25, 21.1, 530, 918.6666666666669]\n",
            "[0.4, 0.75, 20.8, 0.25, 21.1, 420, 728.0000000000001]\n",
            "[0.4, 0.75, 19.8, 0.25, 20.3, 450, 780.0000000000001]\n",
            "[0.05, 0.9, 19.5, 0.1, 20, 420, 728.0000000000001]\n",
            "[0.05, 0.9, 19.5, 0.1, 20, 410, 710.6666666666667]\n"
          ]
        }
      ]
    },
    {
      "cell_type": "code",
      "source": [
        "open_air_burning_emissions = {\n",
        "    \"gas\" : [\"emissions (T/DT)\", \"GWP\"],\n",
        "    \"CO2\" : [1.708, 1],\n",
        "    \"CO\"  : [0.0663, 1],\n",
        "    \"CH4\" : [0.005, 21],\n",
        "    \"N2O\" : [0.00026, 310],\n",
        "    \"NOX\" : [0.00103, 5]\n",
        "    }\n",
        "\n",
        "factory_burning_emissions = {\n",
        "    \"gas\" : [\"emissions (T/DT)\", \"GWP\"],\n",
        "    \"CO2\" : [1.715, 1],\n",
        "    \"CO\"  : [0, 1],\n",
        "    \"CH4\" : [0.0001, 21],\n",
        "    \"N2O\" : [0.00007, 310],\n",
        "    \"NOX\" : [0, 5]\n",
        "    }"
      ],
      "metadata": {
        "id": "yTfo6TwwdXVt"
      },
      "execution_count": null,
      "outputs": []
    },
    {
      "cell_type": "code",
      "source": [
        "def calculate_tCO2e(mass, emissions):\n",
        "    \"\"\"\n",
        "    mass = the dry weight that is being burnt in tonnes\n",
        "    emissions = dictionary consisting of a list with the gas emissions in tonnes per dry tonnes of emissions waste and global warming potential for each gas\n",
        "    \"\"\"\n",
        "    tCO2e = 0\n",
        "    for key in emissions:\n",
        "        if key != \"gas\":\n",
        "            tCO2e += mass * emissions[key][0] * emissions[key][1] # Sum the product of mass, emissions, and GWP for each gas\n",
        "    return tCO2e\n",
        "\n",
        "print(f\"The dry mass emmissions for open air burning are given by: {calculate_tCO2e(dry_wood_weight, open_air_burning_emissions)}\")\n",
        "print(f\"Comparatively, the dry mass emmissions for the factory controlled burning are given by: {calculate_tCO2e(dry_wood_weight, factory_burning_emissions)}\")"
      ],
      "metadata": {
        "colab": {
          "base_uri": "https://localhost:8080/"
        },
        "id": "8reHe5UYeZ_Z",
        "outputId": "62e5d50b-fc6a-4f41-c859-5f0e6a254cd6"
      },
      "execution_count": null,
      "outputs": [
        {
          "output_type": "stream",
          "name": "stdout",
          "text": [
            "The dry mass emmissions for open air burning are given by: 235806.0\n",
            "Comparatively, the dry mass emmissions for the factory controlled burning are given by: 208656.0\n"
          ]
        }
      ]
    },
    {
      "cell_type": "code",
      "source": [
        "slashpile_weight_decomposition = {\n",
        "    \"wood species\" : [\"dry wood weight\", \"stem weight\", \"bark weight\", \"wet wood weight\", \"m3 solid round wet\"]\n",
        "}\n",
        "\n",
        "for key in slashpile_wood_composition:\n",
        "    if key != \"wood species\":\n",
        "        weight_decomposition = []\n",
        "        wood_species = slashpile_wood_composition[key]\n",
        "\n",
        "        percent_in_slashpile = wood_species[0]\n",
        "        weight_decomposition.append(percent_in_slashpile * dry_wood_weight)\n",
        "\n",
        "        stem_percent = wood_species[1]\n",
        "        weight_decomposition.append(percent_in_slashpile * dry_wood_weight * stem_percent)\n",
        "\n",
        "        bark_percent = wood_species[3]\n",
        "        weight_decomposition.append(percent_in_slashpile * dry_wood_weight * bark_percent)\n",
        "\n",
        "        slashpile_weight_decomposition[key] = weight_decomposition\n",
        "\n",
        "for key in slashpile_weight_decomposition:\n",
        "    if key != \"wood species\":\n",
        "        print(slashpile_weight_decomposition[key])\n",
        "\n",
        "print(slashpile_weight_decomposition)"
      ],
      "metadata": {
        "colab": {
          "base_uri": "https://localhost:8080/"
        },
        "id": "0ZJfHVxt1tsg",
        "outputId": "34d80322-a221-4f63-eaf6-f01de81bb31d"
      },
      "execution_count": null,
      "outputs": [
        {
          "output_type": "stream",
          "name": "stdout",
          "text": [
            "[12000.0, 9000.0, 3000.0]\n",
            "[48000.0, 36000.0, 12000.0]\n",
            "[48000.0, 36000.0, 12000.0]\n",
            "[6000.0, 5400.0, 600.0]\n",
            "[6000.0, 5400.0, 600.0]\n",
            "{'wood species': ['dry wood weight', 'stem weight', 'bark weight', 'wet wood weight', 'm3 solid round wet'], 'cedar': [12000.0, 9000.0, 3000.0], 'pine': [48000.0, 36000.0, 12000.0], 'spruce': [48000.0, 36000.0, 12000.0], 'aspen': [6000.0, 5400.0, 600.0], 'cottonwood': [6000.0, 5400.0, 600.0]}\n"
          ]
        }
      ]
    },
    {
      "cell_type": "code",
      "source": [
        "for key in slashpile_weight_decomposition:\n",
        "    if key != \"wood species\":\n",
        "        weight_decomposition = slashpile_weight_decomposition[key]\n",
        "        weight_decomposition.append(weight_decomposition[0]/(1 - moisture_content))"
      ],
      "metadata": {
        "id": "EaIgMvU94-6I"
      },
      "execution_count": null,
      "outputs": []
    },
    {
      "cell_type": "code",
      "source": [
        "wet_round_wood_volume = 0\n",
        "\n",
        "for key in slashpile_weight_decomposition:\n",
        "    if key != \"wood species\":\n",
        "        weight_decomposition = slashpile_weight_decomposition[key]\n",
        "        weight_decomposition.append(weight_decomposition[-1] * 1000/ slashpile_wood_composition[key][-1])\n",
        "\n",
        "        wet_round_wood_volume += weight_decomposition[-1]\n",
        "\n",
        "loose_wet_chips = wet_round_wood_volume * 60 / 37\n",
        "\n",
        "print(f\"Given that the dry slashpile mass of {dry_wood_weight}, the total wet chip volume would be : {loose_wet_chips}\")"
      ],
      "metadata": {
        "colab": {
          "base_uri": "https://localhost:8080/"
        },
        "id": "mkH7LA1V6duy",
        "outputId": "16ae9788-295f-4be2-e133-8c4a73fe3913"
      },
      "execution_count": null,
      "outputs": [
        {
          "output_type": "stream",
          "name": "stdout",
          "text": [
            "Given that the dry slashpile mass of 120000, the total wet chip volume would be : 566556.6549137649\n"
          ]
        }
      ]
    },
    {
      "cell_type": "code",
      "source": [
        "import math\n",
        "\n",
        "truckloads = math.ceil(loose_wet_chips/170)\n",
        "\n",
        "print(f\"We would require {truckloads} to transport {loose_wet_chips} m^3 of loose chips with 55% moisture content or {dry_wood_weight} tonnes of dry wood. \\n We note that this means there are roughly {math.ceil(truckloads/work_days_per_year)} truckloads per day\")\n",
        "\n",
        "def calculate_truckloads(mass, slashpile_composition):\n",
        "    \"\"\"\n",
        "    This function calculates the number of truckloads required to transport the wet chips.\n",
        "\n",
        "    mass = is the weight in tonnes\n",
        "    slashpile_composition = a dictionary consisting of key:value pairs, where the key is a wood species and the values is a list of factors regarding the species.\n",
        "    \"\"\"\n",
        "\n",
        "\n",
        "    return truckloads"
      ],
      "metadata": {
        "colab": {
          "base_uri": "https://localhost:8080/"
        },
        "id": "hdZ_VUVr0MOZ",
        "outputId": "500bfd27-bf1a-48b8-e09a-9d6ea165258c"
      },
      "execution_count": null,
      "outputs": [
        {
          "output_type": "stream",
          "name": "stdout",
          "text": [
            "We would require 3333 to transport 566556.6549137649 m^3 of loose chips with 55% moisture content or 120000 tonnes of dry wood. \n",
            " We note that this means there are roughly 15 truckloads per day\n"
          ]
        }
      ]
    },
    {
      "cell_type": "code",
      "execution_count": null,
      "metadata": {
        "id": "L8UxyfzUOoyU",
        "colab": {
          "base_uri": "https://localhost:8080/"
        },
        "outputId": "1213d9ae-8346-4a7e-af43-24aeb72c484d"
      },
      "outputs": [
        {
          "output_type": "stream",
          "name": "stdout",
          "text": [
            "These transport emissions would cause roughly 538.86070854 tonnes of CO2 equivalent for annum.\n"
          ]
        }
      ],
      "source": [
        "def calculate_transportation_emissions(distance, fuel_consumption_rate, fuel_carbon_content):\n",
        "    \"\"\"\n",
        "    distance = average distance travelled in km.\n",
        "    fuel_consumption_rate = truck's recorded annual fuel consumption in L/100km.\n",
        "    fuel_carbon_content = the average fuel carbon content, ~ 2.69 kg CO2/L or 0.00268 t CO2/L.\n",
        "    \"\"\"\n",
        "    fuel_consumption = (distance/ 100) * fuel_consumption_rate # in litres. NB : We divide this by 100 so that the distance is in 100km allowing cancellations\n",
        "    carbon_emissions_tCO2e = fuel_consumption * fuel_carbon_content # in kg CO2\n",
        "    return carbon_emissions_tCO2e\n",
        "\n",
        "print(f\"These transport emissions would cause roughly {2 * truckloads * calculate_transportation_emissions(average_distance, truck_fuel_consumption, diesel_carbon_content)} tonnes of CO2 equivalent for annum.\")"
      ]
    },
    {
      "cell_type": "code",
      "source": [
        "def calculate_grinder_emissions(time, fuel_consumption_rate, fuel_carbon_content):\n",
        "    \"\"\"\n",
        "    time = time in hours.\n",
        "    fuel_consumption_rate = grinder's recorded annual fuel consumption in L/hr\n",
        "    fuel_carbon_content = the average fuel carbon content, ~ 2.69 kg CO2/L or 0.00268 t CO2/L.\n",
        "    \"\"\"\n",
        "    fuel_consumption = time * fuel_consumption_rate # in litres\n",
        "    carbon_emissions_tCO2e = fuel_consumption * fuel_carbon_content # in kg CO2\n",
        "    return carbon_emissions_tCO2e\n",
        "\n",
        "print(f\"These grinder emissions would cause roughly {work_days_per_year * calculate_grinder_emissions(runtime_per_day, grinder_fuel_consumption, diesel_carbon_content)} tonnes of CO2 equivalent for annum.\")"
      ],
      "metadata": {
        "id": "QaUdSw8xrHAt",
        "colab": {
          "base_uri": "https://localhost:8080/"
        },
        "outputId": "31263490-a92f-4d4c-a38e-bba5715fbf91"
      },
      "execution_count": null,
      "outputs": [
        {
          "output_type": "stream",
          "name": "stdout",
          "text": [
            "These grinder emissions would cause roughly 853.4025 tonnes of CO2 equivalent for annum.\n"
          ]
        }
      ]
    },
    {
      "cell_type": "code",
      "source": [
        "def calculate_factory_efficiency(energy_output, biomass, sawmill_waste):\n",
        "    \"\"\"\n",
        "    energy_output = the factory's energy output in Mega Watt Hours\n",
        "    biomass = the dry weight in tonnes of biomass\n",
        "    sawmill_waste = the mass of sawmill waste product in tonnes being combined with biomass for combustion\n",
        "    \"\"\"\n",
        "    total_mass = biomass + sawmill_waste\n",
        "    wood_species_potential_energy = {\"wood species\" : [\"dry weight\", \"stem weight\", \"bark weight\", \"stem energy\", \"bark energy\"]}\n",
        "    for key in slashpile_wood_composition:\n",
        "        if key != \"wood species\":\n",
        "\n",
        "    stem_weight ="
      ],
      "metadata": {
        "id": "TswLzK6opPVg",
        "colab": {
          "base_uri": "https://localhost:8080/",
          "height": 132
        },
        "outputId": "b9f46da4-aa39-4d08-d7c4-39b6f81b9692"
      },
      "execution_count": null,
      "outputs": [
        {
          "output_type": "error",
          "ename": "IndentationError",
          "evalue": "ignored",
          "traceback": [
            "\u001b[0;36m  File \u001b[0;32m\"<ipython-input-12-90703d484fcd>\"\u001b[0;36m, line \u001b[0;32m12\u001b[0m\n\u001b[0;31m    stem_weight =\u001b[0m\n\u001b[0m    ^\u001b[0m\n\u001b[0;31mIndentationError\u001b[0m\u001b[0;31m:\u001b[0m expected an indented block after 'if' statement on line 10\n"
          ]
        }
      ]
    }
  ]
}